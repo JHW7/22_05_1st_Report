{
  "nbformat": 4,
  "nbformat_minor": 0,
  "metadata": {
    "colab": {
      "provenance": [],
      "authorship_tag": "ABX9TyMRIVAkdLcApI7QigsQhgEW",
      "include_colab_link": true
    },
    "kernelspec": {
      "name": "python3",
      "display_name": "Python 3"
    },
    "language_info": {
      "name": "python"
    }
  },
  "cells": [
    {
      "cell_type": "markdown",
      "metadata": {
        "id": "view-in-github",
        "colab_type": "text"
      },
      "source": [
        "<a href=\"https://colab.research.google.com/github/JHW7/22_05_1st_Report/blob/main/Report_1st.ipynb\" target=\"_parent\"><img src=\"https://colab.research.google.com/assets/colab-badge.svg\" alt=\"Open In Colab\"/></a>"
      ]
    },
    {
      "cell_type": "code",
      "execution_count": 1,
      "metadata": {
        "colab": {
          "base_uri": "https://localhost:8080/"
        },
        "id": "tFQhPPqZYQu-",
        "outputId": "7b213f9e-0db4-403d-8781-15e3bddf7cf0"
      },
      "outputs": [
        {
          "output_type": "stream",
          "name": "stdout",
          "text": [
            "환영합니다.\n",
            "파이썬의 세계에 오신 것을 환영합니다.\n",
            "파이썬은 강력합니다.\n"
          ]
        }
      ],
      "source": [
        "print(\"환영합니다.\")\n",
        "print(\"파이썬의 세계에 오신 것을 환영합니다.\")\n",
        "print(\"파이썬은 강력합니다.\")"
      ]
    },
    {
      "cell_type": "code",
      "source": [
        "print(\"반갑습니다. 파이썬!\")\n",
        "print(2*3/10)\n",
        "print(\"Hello\", \"World\", \"!!!\")"
      ],
      "metadata": {
        "colab": {
          "base_uri": "https://localhost:8080/"
        },
        "id": "HdDRnceXZq2d",
        "outputId": "b8b9bcff-6e8d-4635-af53-a1f8708a2609"
      },
      "execution_count": 2,
      "outputs": [
        {
          "output_type": "stream",
          "name": "stdout",
          "text": [
            "반갑습니다. 파이썬!\n",
            "0.6\n",
            "Hello World !!!\n"
          ]
        }
      ]
    },
    {
      "cell_type": "code",
      "source": [
        "print(7*24)"
      ],
      "metadata": {
        "colab": {
          "base_uri": "https://localhost:8080/"
        },
        "id": "0bHXPizkZ87W",
        "outputId": "489e3f31-2455-4370-ba83-03fa39d9cdc3"
      },
      "execution_count": 3,
      "outputs": [
        {
          "output_type": "stream",
          "name": "stdout",
          "text": [
            "168\n"
          ]
        }
      ]
    }
  ]
}